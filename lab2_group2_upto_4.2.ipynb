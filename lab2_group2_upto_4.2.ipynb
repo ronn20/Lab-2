{
 "cells": [
  {
   "cell_type": "code",
   "execution_count": 2,
   "id": "93aa8a4d-854a-4ca3-8a0a-959e61a842e2",
   "metadata": {},
   "outputs": [],
   "source": [
    "#Import Statements\n",
    "import numpy as np\n",
    "from astropy.io import fits\n",
    "import matplotlib.pyplot as plt\n",
    "from scipy.optimize import curve_fit\n",
    "from IPython.display import clear_output \n",
    "from IPython.display import Image\n",
    "import os\n",
    "from os import path\n",
    "import pandas as pd\n",
    "from scipy.signal import find_peaks\n",
    "import glob\n",
    "import math"
   ]
  },
  {
   "cell_type": "markdown",
   "id": "477880a1-dc3b-404c-b44d-8a4a606f2dcb",
   "metadata": {},
   "source": [
    "## Lab 1: Pretty Picture"
   ]
  },
  {
   "cell_type": "code",
   "execution_count": 3,
   "id": "b8261d28-c08c-49c9-b55d-82360dd7e083",
   "metadata": {},
   "outputs": [],
   "source": [
    "#Functions\n",
    "\n",
    "def fits_data_to_3d_array(file_list): \n",
    "    '''\n",
    "    Takes in a list of fits files and converts data into a 3d array\n",
    "    Parameters:\n",
    "        file_list (list): List containing paths of FITS files to convert.\n",
    "    Returns:\n",
    "        final_array: 3d array of data from each fits file.\n",
    "    '''    \n",
    "    for i, file in enumerate(file_list):\n",
    "        with fits.open(file) as hdu:\n",
    "            if i==0:  #If first iteration, create array with correct shape of data\n",
    "                final_array = np.zeros((len(file_list), *hdu[0].data.shape))\n",
    "            final_array[i,:,:] = hdu[0].data\n",
    "    return final_array\n",
    "\n",
    "#Creates a median combine of a 3d array\n",
    "def median_combine(frame_array_3d):\n",
    "    master_frame = np.median(frame_array_3d,axis=0) #takes median along the 'file_index' axis\n",
    "    return master_frame\n",
    " \n",
    "def save_array_to_fits_file(array, new_file_name):\n",
    "    '''\n",
    "    Saves a 2d array of pixel data to a FITS file.\n",
    "    Parameters:\n",
    "    array(2d): 2d array containing pixel values.\n",
    "    new_file_name (path): location, name of FITS file to be saved.\n",
    "    '''  \n",
    "    hdu = fits.PrimaryHDU(data = array)\n",
    "    hdul = fits.HDUList([hdu])\n",
    "    hdul.writeto(new_file_name,overwrite=True)\n",
    "\n",
    "\n",
    "def create_file_list(data_directory, file_name_to_glob, show_list = False):\n",
    "    \n",
    "    '''\n",
    "    This creates a list of all FITS files that will be used.\n",
    "    \n",
    "    Parameters:\n",
    "    data_directory : path to data folder\n",
    "    file_name_to_glob : name of file containing data (ex.: spectrograph_flats_20s_)\n",
    "                        This will glob together all files containing this keywords.\n",
    "    show_list : Show file list for verification.\n",
    "    '''\n",
    "    file_list = glob.glob(os.path.join(data_directory, '*' + file_name_to_glob + '*'))\n",
    "    \n",
    "    if show_list: \n",
    "        for file in file_list: print(file)\n",
    "            \n",
    "    return file_list\n",
    "\n",
    "def cut_pixel_data_array(pixel_data_array, y_pixel_min, y_pixel_max):\n",
    "    '''\n",
    "    Returns an array of pixel data, cut to a specified vertical (y-pixel) range.\n",
    "    Parameters:\n",
    "        pixel_data_array (2d array): Array of pixel data to create a cut from.\n",
    "        y_pixel_min (int): Lower bound to start cut. \n",
    "        y_pixel_max (int): Upper bound to end cut. \n",
    "    Returns:\n",
    "        final_array: 3d array of data from each fits file.\n",
    "    '''   \n",
    "    lower_index = (-1) + y_pixel_min\n",
    "    upper_index = (-1) + y_pixel_max\n",
    "    pixel_data_array_cut = pixel_data_array[lower_index:upper_index,:]\n",
    "    print(pixel_data_array_cut.shape)\n",
    "    return pixel_data_array_cut\n",
    "\n",
    "def display_2d_array(pixel_data_array, lower_percentile=1, upper_percentile=99,figsize=(6,6),cmap='gray'):\n",
    "    '''\n",
    "    Displays a 2d array of pixel data. Useful to see the image contained in a FITS file,\n",
    "    or to verify successful array data handling.\n",
    "    Parameters:\n",
    "        pixel_data_array (2d array): Array of pixel data to display.\n",
    "        lower_percentile (int): Adjusts the pixel scale lower bound; default = 1\n",
    "        upper_percentile (int): Adjusts the pixel scale upper bound; default = 99\n",
    "    '''   \n",
    "    minimum = np.percentile(pixel_data_array,lower_percentile)\n",
    "    maximum = np.percentile(pixel_data_array,upper_percentile)\n",
    "    plt.figure(figsize=figsize)\n",
    "    plt.imshow(pixel_data_array, cmap=cmap, origin = 'lower', vmin=minimum, vmax=maximum)\n",
    "    plt.colorbar(location='top')\n",
    "    \n",
    "def glob_files(folder, specifier, asterisks='both', show=False):\n",
    "    asterisk = \"*\"\n",
    "    if asterisks == 'both':\n",
    "        files = glob.glob(os.path.join(folder, asterisk + specifier + asterisk))\n",
    "    elif asterisks == 'left':\n",
    "        files = glob.glob(os.path.join(folder, asterisk + specifier))\n",
    "    elif asterisks == 'right':\n",
    "        files = glob.glob(os.path.join(folder, specifier + asterisk))\n",
    "    if show:\n",
    "        print(f'Number of Files: {len(files)}')\n",
    "        for file in files: \n",
    "            print(file)\n",
    "    return files"
   ]
  },
  {
   "cell_type": "markdown",
   "id": "ee5a1f7a-5f88-419d-a25c-93cd34b5aa95",
   "metadata": {},
   "source": [
    "Pretty Picture"
   ]
  },
  {
   "cell_type": "code",
   "execution_count": 3,
   "id": "d9ba41fa-dc5e-45b9-9af9-f2d409df1a13",
   "metadata": {},
   "outputs": [],
   "source": [
    "#Import Files\n",
    "folder = r'pretty_picture_data'\n",
    "\n",
    "#Lights\n",
    "blue_lights_files = glob_files(folder, \"orion_blue_2s\", asterisks='both')\n",
    "ha_lights_files = glob_files(folder, \"orion_ha_2s\", asterisks='both')\n",
    "red_lights_files = glob_files(folder, \"orion_red_2s\", asterisks='both')\n",
    "visible_lights_files = glob_files(folder, \"orion_visible_2s\", asterisks='both')\n",
    "\n",
    "#Flats\n",
    "blue_flats_files = glob_files(folder, \"blue_flat\", asterisks='both')\n",
    "ha_flats_files = glob_files(folder, \"ha_flat\", asterisks='both')\n",
    "red_flats_files = glob_files(folder, \"red_flat\", asterisks='both')\n",
    "visible_flats_files = glob_files(folder, \"visible_flat\", asterisks='both')\n",
    "\n",
    "#Darks\n",
    "darks_files = glob_files(folder,'dark_2s',show=False)"
   ]
  },
  {
   "cell_type": "code",
   "execution_count": 4,
   "id": "489202fc-1b7f-4f4a-987c-09faec771f93",
   "metadata": {},
   "outputs": [
    {
     "ename": "UnboundLocalError",
     "evalue": "cannot access local variable 'final_array' where it is not associated with a value",
     "output_type": "error",
     "traceback": [
      "\u001b[1;31m---------------------------------------------------------------------------\u001b[0m",
      "\u001b[1;31mUnboundLocalError\u001b[0m                         Traceback (most recent call last)",
      "Cell \u001b[1;32mIn[4], line 2\u001b[0m\n\u001b[0;32m      1\u001b[0m \u001b[38;5;66;03m#Create Frames\u001b[39;00m\n\u001b[1;32m----> 2\u001b[0m blue_lights \u001b[38;5;241m=\u001b[39m \u001b[43mfits_data_to_3d_array\u001b[49m\u001b[43m(\u001b[49m\u001b[43mblue_lights_files\u001b[49m\u001b[43m)\u001b[49m\n\u001b[0;32m      3\u001b[0m ha_lights \u001b[38;5;241m=\u001b[39m fits_data_to_3d_array(ha_lights_files)\n\u001b[0;32m      4\u001b[0m red_lights \u001b[38;5;241m=\u001b[39m fits_data_to_3d_array(red_lights_files)\n",
      "Cell \u001b[1;32mIn[2], line 16\u001b[0m, in \u001b[0;36mfits_data_to_3d_array\u001b[1;34m(file_list)\u001b[0m\n\u001b[0;32m     14\u001b[0m             final_array \u001b[38;5;241m=\u001b[39m np\u001b[38;5;241m.\u001b[39mzeros((\u001b[38;5;28mlen\u001b[39m(file_list), \u001b[38;5;241m*\u001b[39mhdu[\u001b[38;5;241m0\u001b[39m]\u001b[38;5;241m.\u001b[39mdata\u001b[38;5;241m.\u001b[39mshape))\n\u001b[0;32m     15\u001b[0m         final_array[i,:,:] \u001b[38;5;241m=\u001b[39m hdu[\u001b[38;5;241m0\u001b[39m]\u001b[38;5;241m.\u001b[39mdata\n\u001b[1;32m---> 16\u001b[0m \u001b[38;5;28;01mreturn\u001b[39;00m \u001b[43mfinal_array\u001b[49m\n",
      "\u001b[1;31mUnboundLocalError\u001b[0m: cannot access local variable 'final_array' where it is not associated with a value"
     ]
    }
   ],
   "source": [
    "#Create Frames\n",
    "blue_lights = fits_data_to_3d_array(blue_lights_files)\n",
    "ha_lights = fits_data_to_3d_array(ha_lights_files)\n",
    "red_lights = fits_data_to_3d_array(red_lights_files)\n",
    "visible_lights = fits_data_to_3d_array(visible_lights_files)\n",
    "\n",
    "blue_flats = fits_data_to_3d_array(blue_flats_files)\n",
    "ha_flats = fits_data_to_3d_array(ha_flats_files)\n",
    "red_flats = fits_data_to_3d_array(red_flats_files)\n",
    "visible_flats = fits_data_to_3d_array(visible_flats_files)\n",
    "\n",
    "darks = fits_data_to_3d_array(darks_files)"
   ]
  },
  {
   "cell_type": "code",
   "execution_count": 5,
   "id": "a4ed3be6-1674-47ce-87ad-e2f9108df0d4",
   "metadata": {},
   "outputs": [
    {
     "ename": "NameError",
     "evalue": "name 'blue_lights' is not defined",
     "output_type": "error",
     "traceback": [
      "\u001b[1;31m---------------------------------------------------------------------------\u001b[0m",
      "\u001b[1;31mNameError\u001b[0m                                 Traceback (most recent call last)",
      "Cell \u001b[1;32mIn[5], line 2\u001b[0m\n\u001b[0;32m      1\u001b[0m \u001b[38;5;66;03m#Master Frames\u001b[39;00m\n\u001b[1;32m----> 2\u001b[0m master_blue \u001b[38;5;241m=\u001b[39m median_combine(\u001b[43mblue_lights\u001b[49m)\n\u001b[0;32m      3\u001b[0m master_visible \u001b[38;5;241m=\u001b[39m median_combine(visible_lights)\n\u001b[0;32m      4\u001b[0m master_red \u001b[38;5;241m=\u001b[39m median_combine(red_lights)\n",
      "\u001b[1;31mNameError\u001b[0m: name 'blue_lights' is not defined"
     ]
    }
   ],
   "source": [
    "#Master Frames\n",
    "master_blue = median_combine(blue_lights)\n",
    "master_visible = median_combine(visible_lights)\n",
    "master_red = median_combine(red_lights)\n",
    "master_ha = median_combine(ha_lights)\n",
    "\n",
    "master_blue_flats = median_combine(blue_flats)\n",
    "master_visible_flats = median_combine(visible_flats)\n",
    "master_red_flats = median_combine(red_flats)\n",
    "master_ha_flats = median_combine(ha_flats)\n",
    "\n",
    "master_dark = median_combine(darks)"
   ]
  },
  {
   "cell_type": "code",
   "execution_count": 6,
   "id": "65a4f2a0-6b0f-4063-8a6c-595f6181d210",
   "metadata": {},
   "outputs": [
    {
     "ename": "NameError",
     "evalue": "name 'master_blue' is not defined",
     "output_type": "error",
     "traceback": [
      "\u001b[1;31m---------------------------------------------------------------------------\u001b[0m",
      "\u001b[1;31mNameError\u001b[0m                                 Traceback (most recent call last)",
      "Cell \u001b[1;32mIn[6], line 1\u001b[0m\n\u001b[1;32m----> 1\u001b[0m display_2d_array(\u001b[43mmaster_blue\u001b[49m,figsize\u001b[38;5;241m=\u001b[39m(\u001b[38;5;241m8\u001b[39m,\u001b[38;5;241m8\u001b[39m))\n",
      "\u001b[1;31mNameError\u001b[0m: name 'master_blue' is not defined"
     ]
    }
   ],
   "source": [
    "display_2d_array(master_blue,figsize=(8,8))"
   ]
  },
  {
   "cell_type": "code",
   "execution_count": 7,
   "id": "a12a48e9-827f-4a59-9868-73e120f669e5",
   "metadata": {},
   "outputs": [
    {
     "ename": "NameError",
     "evalue": "name 'master_blue' is not defined",
     "output_type": "error",
     "traceback": [
      "\u001b[1;31m---------------------------------------------------------------------------\u001b[0m",
      "\u001b[1;31mNameError\u001b[0m                                 Traceback (most recent call last)",
      "Cell \u001b[1;32mIn[7], line 2\u001b[0m\n\u001b[0;32m      1\u001b[0m \u001b[38;5;66;03m#Dark Subtraction\u001b[39;00m\n\u001b[1;32m----> 2\u001b[0m master_blue_prime \u001b[38;5;241m=\u001b[39m \u001b[43mmaster_blue\u001b[49m \u001b[38;5;241m-\u001b[39m master_dark\n\u001b[0;32m      3\u001b[0m master_visible_prime \u001b[38;5;241m=\u001b[39m master_visible \u001b[38;5;241m-\u001b[39m master_dark\n\u001b[0;32m      4\u001b[0m master_red_prime \u001b[38;5;241m=\u001b[39m master_red \u001b[38;5;241m-\u001b[39m master_dark\n",
      "\u001b[1;31mNameError\u001b[0m: name 'master_blue' is not defined"
     ]
    }
   ],
   "source": [
    "#Dark Subtraction\n",
    "master_blue_prime = master_blue - master_dark\n",
    "master_visible_prime = master_visible - master_dark\n",
    "master_red_prime = master_red - master_dark\n",
    "master_ha_prime = master_ha - master_dark\n",
    "\n",
    "master_blue_flats_prime = master_blue_flats - master_dark\n",
    "master_visible_flats_prime = master_visible_flats - master_dark\n",
    "master_red_flats_prime = master_red_flats - master_dark\n",
    "master_ha_flats_prime = master_ha_flats - master_dark\n",
    "\n",
    "#display_2d_array(1 / (master_ha_prime - master_blue_prime),figsize=(8,8))\n",
    "display_2d_array(master_ha_prime,figsize=(8,8))"
   ]
  },
  {
   "cell_type": "code",
   "execution_count": 8,
   "id": "9c7efdf8-606f-4fbc-91e9-3ae3110edd66",
   "metadata": {},
   "outputs": [
    {
     "ename": "NameError",
     "evalue": "name 'master_blue_prime' is not defined",
     "output_type": "error",
     "traceback": [
      "\u001b[1;31m---------------------------------------------------------------------------\u001b[0m",
      "\u001b[1;31mNameError\u001b[0m                                 Traceback (most recent call last)",
      "Cell \u001b[1;32mIn[8], line 10\u001b[0m\n\u001b[0;32m      7\u001b[0m     master_image \u001b[38;5;241m=\u001b[39m master_image\u001b[38;5;241m*\u001b[39mconst\n\u001b[0;32m      8\u001b[0m     \u001b[38;5;28;01mreturn\u001b[39;00m master_image\n\u001b[1;32m---> 10\u001b[0m blue_science \u001b[38;5;241m=\u001b[39m flat_correction(\u001b[43mmaster_blue_prime\u001b[49m,master_blue_flats_prime)\n\u001b[0;32m     11\u001b[0m visible_science \u001b[38;5;241m=\u001b[39m flat_correction(master_visible_prime,master_visible_flats_prime)\n\u001b[0;32m     12\u001b[0m red_science \u001b[38;5;241m=\u001b[39m flat_correction(master_red_prime,master_red_flats_prime)\n",
      "\u001b[1;31mNameError\u001b[0m: name 'master_blue_prime' is not defined"
     ]
    }
   ],
   "source": [
    "def flat_correction(master_image, master_flat):\n",
    "    #maximum = np.max(master_flat)\n",
    "    #const = 1/maximum \n",
    "    const = 1 / np.median(master_flat)\n",
    "    master_flat_normalized = master_flat * const\n",
    "    master_image = master_image/master_flat_normalized\n",
    "    master_image = master_image*const\n",
    "    return master_image\n",
    "\n",
    "blue_science = flat_correction(master_blue_prime,master_blue_flats_prime)\n",
    "visible_science = flat_correction(master_visible_prime,master_visible_flats_prime)\n",
    "red_science = flat_correction(master_red_prime,master_red_flats_prime)\n",
    "ha_science = flat_correction(master_ha_prime,master_ha_flats_prime)\n",
    "\n",
    "save_array_to_fits_file(blue_science, 'blue_science.fits')\n",
    "save_array_to_fits_file(visible_science, 'visible_science.fits')\n",
    "save_array_to_fits_file(red_science, 'red_science.fits')\n",
    "save_array_to_fits_file(ha_science, 'ha_science.fits')\n",
    "display_2d_array(blue_science)"
   ]
  },
  {
   "cell_type": "code",
   "execution_count": 9,
   "id": "42891ebd-353c-4386-b3f3-287e3ff8a186",
   "metadata": {},
   "outputs": [
    {
     "ename": "FileNotFoundError",
     "evalue": "[Errno 2] No such file or directory: 'blue_science.fits'",
     "output_type": "error",
     "traceback": [
      "\u001b[1;31m---------------------------------------------------------------------------\u001b[0m",
      "\u001b[1;31mFileNotFoundError\u001b[0m                         Traceback (most recent call last)",
      "Cell \u001b[1;32mIn[9], line 4\u001b[0m\n\u001b[0;32m      1\u001b[0m \u001b[38;5;28;01mfrom\u001b[39;00m \u001b[38;5;21;01mPIL\u001b[39;00m \u001b[38;5;28;01mimport\u001b[39;00m Image\n\u001b[0;32m      3\u001b[0m \u001b[38;5;66;03m# Load blue, green, and red channels from FITS files\u001b[39;00m\n\u001b[1;32m----> 4\u001b[0m blue_data \u001b[38;5;241m=\u001b[39m \u001b[43mfits\u001b[49m\u001b[38;5;241;43m.\u001b[39;49m\u001b[43mgetdata\u001b[49m\u001b[43m(\u001b[49m\u001b[38;5;124;43m'\u001b[39;49m\u001b[38;5;124;43mblue_science.fits\u001b[39;49m\u001b[38;5;124;43m'\u001b[39;49m\u001b[43m)\u001b[49m\n\u001b[0;32m      5\u001b[0m green_data \u001b[38;5;241m=\u001b[39m fits\u001b[38;5;241m.\u001b[39mgetdata(\u001b[38;5;124m'\u001b[39m\u001b[38;5;124mvisible_science.fits\u001b[39m\u001b[38;5;124m'\u001b[39m)\n\u001b[0;32m      6\u001b[0m red_data \u001b[38;5;241m=\u001b[39m fits\u001b[38;5;241m.\u001b[39mgetdata(\u001b[38;5;124m'\u001b[39m\u001b[38;5;124mred_science.fits\u001b[39m\u001b[38;5;124m'\u001b[39m)\n",
      "File \u001b[1;32m~\\AppData\\Local\\Packages\\PythonSoftwareFoundation.Python.3.11_qbz5n2kfra8p0\\LocalCache\\local-packages\\Python311\\site-packages\\astropy\\io\\fits\\convenience.py:220\u001b[0m, in \u001b[0;36mgetdata\u001b[1;34m(filename, header, lower, upper, view, *args, **kwargs)\u001b[0m\n\u001b[0;32m    215\u001b[0m extver \u001b[38;5;241m=\u001b[39m kwargs\u001b[38;5;241m.\u001b[39mget(\u001b[38;5;124m\"\u001b[39m\u001b[38;5;124mextver\u001b[39m\u001b[38;5;124m\"\u001b[39m)\n\u001b[0;32m    216\u001b[0m ext_given \u001b[38;5;241m=\u001b[39m \u001b[38;5;129;01mnot\u001b[39;00m (\n\u001b[0;32m    217\u001b[0m     \u001b[38;5;28mlen\u001b[39m(args) \u001b[38;5;241m==\u001b[39m \u001b[38;5;241m0\u001b[39m \u001b[38;5;129;01mand\u001b[39;00m ext \u001b[38;5;129;01mis\u001b[39;00m \u001b[38;5;28;01mNone\u001b[39;00m \u001b[38;5;129;01mand\u001b[39;00m extname \u001b[38;5;129;01mis\u001b[39;00m \u001b[38;5;28;01mNone\u001b[39;00m \u001b[38;5;129;01mand\u001b[39;00m extver \u001b[38;5;129;01mis\u001b[39;00m \u001b[38;5;28;01mNone\u001b[39;00m\n\u001b[0;32m    218\u001b[0m )\n\u001b[1;32m--> 220\u001b[0m hdulist, extidx \u001b[38;5;241m=\u001b[39m \u001b[43m_getext\u001b[49m\u001b[43m(\u001b[49m\u001b[43mfilename\u001b[49m\u001b[43m,\u001b[49m\u001b[43m \u001b[49m\u001b[43mmode\u001b[49m\u001b[43m,\u001b[49m\u001b[43m \u001b[49m\u001b[38;5;241;43m*\u001b[39;49m\u001b[43margs\u001b[49m\u001b[43m,\u001b[49m\u001b[43m \u001b[49m\u001b[38;5;241;43m*\u001b[39;49m\u001b[38;5;241;43m*\u001b[39;49m\u001b[43mkwargs\u001b[49m\u001b[43m)\u001b[49m\n\u001b[0;32m    221\u001b[0m \u001b[38;5;28;01mtry\u001b[39;00m:\n\u001b[0;32m    222\u001b[0m     hdu \u001b[38;5;241m=\u001b[39m hdulist[extidx]\n",
      "File \u001b[1;32m~\\AppData\\Local\\Packages\\PythonSoftwareFoundation.Python.3.11_qbz5n2kfra8p0\\LocalCache\\local-packages\\Python311\\site-packages\\astropy\\io\\fits\\convenience.py:1121\u001b[0m, in \u001b[0;36m_getext\u001b[1;34m(filename, mode, ext, extname, extver, *args, **kwargs)\u001b[0m\n\u001b[0;32m   1118\u001b[0m \u001b[38;5;28;01melif\u001b[39;00m extver \u001b[38;5;129;01mand\u001b[39;00m extname \u001b[38;5;129;01mis\u001b[39;00m \u001b[38;5;28;01mNone\u001b[39;00m:\n\u001b[0;32m   1119\u001b[0m     \u001b[38;5;28;01mraise\u001b[39;00m \u001b[38;5;167;01mTypeError\u001b[39;00m(\u001b[38;5;124m\"\u001b[39m\u001b[38;5;124mextver alone cannot specify an extension.\u001b[39m\u001b[38;5;124m\"\u001b[39m)\n\u001b[1;32m-> 1121\u001b[0m hdulist \u001b[38;5;241m=\u001b[39m \u001b[43mfitsopen\u001b[49m\u001b[43m(\u001b[49m\u001b[43mfilename\u001b[49m\u001b[43m,\u001b[49m\u001b[43m \u001b[49m\u001b[43mmode\u001b[49m\u001b[38;5;241;43m=\u001b[39;49m\u001b[43mmode\u001b[49m\u001b[43m,\u001b[49m\u001b[43m \u001b[49m\u001b[38;5;241;43m*\u001b[39;49m\u001b[38;5;241;43m*\u001b[39;49m\u001b[43mkwargs\u001b[49m\u001b[43m)\u001b[49m\n\u001b[0;32m   1123\u001b[0m \u001b[38;5;28;01mreturn\u001b[39;00m hdulist, ext\n",
      "File \u001b[1;32m~\\AppData\\Local\\Packages\\PythonSoftwareFoundation.Python.3.11_qbz5n2kfra8p0\\LocalCache\\local-packages\\Python311\\site-packages\\astropy\\io\\fits\\hdu\\hdulist.py:223\u001b[0m, in \u001b[0;36mfitsopen\u001b[1;34m(name, mode, memmap, save_backup, cache, lazy_load_hdus, ignore_missing_simple, use_fsspec, fsspec_kwargs, decompress_in_memory, **kwargs)\u001b[0m\n\u001b[0;32m    220\u001b[0m \u001b[38;5;28;01mif\u001b[39;00m \u001b[38;5;129;01mnot\u001b[39;00m name:\n\u001b[0;32m    221\u001b[0m     \u001b[38;5;28;01mraise\u001b[39;00m \u001b[38;5;167;01mValueError\u001b[39;00m(\u001b[38;5;124mf\u001b[39m\u001b[38;5;124m\"\u001b[39m\u001b[38;5;124mEmpty filename: \u001b[39m\u001b[38;5;132;01m{\u001b[39;00mname\u001b[38;5;132;01m!r}\u001b[39;00m\u001b[38;5;124m\"\u001b[39m)\n\u001b[1;32m--> 223\u001b[0m \u001b[38;5;28;01mreturn\u001b[39;00m \u001b[43mHDUList\u001b[49m\u001b[38;5;241;43m.\u001b[39;49m\u001b[43mfromfile\u001b[49m\u001b[43m(\u001b[49m\n\u001b[0;32m    224\u001b[0m \u001b[43m    \u001b[49m\u001b[43mname\u001b[49m\u001b[43m,\u001b[49m\n\u001b[0;32m    225\u001b[0m \u001b[43m    \u001b[49m\u001b[43mmode\u001b[49m\u001b[43m,\u001b[49m\n\u001b[0;32m    226\u001b[0m \u001b[43m    \u001b[49m\u001b[43mmemmap\u001b[49m\u001b[43m,\u001b[49m\n\u001b[0;32m    227\u001b[0m \u001b[43m    \u001b[49m\u001b[43msave_backup\u001b[49m\u001b[43m,\u001b[49m\n\u001b[0;32m    228\u001b[0m \u001b[43m    \u001b[49m\u001b[43mcache\u001b[49m\u001b[43m,\u001b[49m\n\u001b[0;32m    229\u001b[0m \u001b[43m    \u001b[49m\u001b[43mlazy_load_hdus\u001b[49m\u001b[43m,\u001b[49m\n\u001b[0;32m    230\u001b[0m \u001b[43m    \u001b[49m\u001b[43mignore_missing_simple\u001b[49m\u001b[43m,\u001b[49m\n\u001b[0;32m    231\u001b[0m \u001b[43m    \u001b[49m\u001b[43muse_fsspec\u001b[49m\u001b[38;5;241;43m=\u001b[39;49m\u001b[43muse_fsspec\u001b[49m\u001b[43m,\u001b[49m\n\u001b[0;32m    232\u001b[0m \u001b[43m    \u001b[49m\u001b[43mfsspec_kwargs\u001b[49m\u001b[38;5;241;43m=\u001b[39;49m\u001b[43mfsspec_kwargs\u001b[49m\u001b[43m,\u001b[49m\n\u001b[0;32m    233\u001b[0m \u001b[43m    \u001b[49m\u001b[43mdecompress_in_memory\u001b[49m\u001b[38;5;241;43m=\u001b[39;49m\u001b[43mdecompress_in_memory\u001b[49m\u001b[43m,\u001b[49m\n\u001b[0;32m    234\u001b[0m \u001b[43m    \u001b[49m\u001b[38;5;241;43m*\u001b[39;49m\u001b[38;5;241;43m*\u001b[39;49m\u001b[43mkwargs\u001b[49m\u001b[43m,\u001b[49m\n\u001b[0;32m    235\u001b[0m \u001b[43m\u001b[49m\u001b[43m)\u001b[49m\n",
      "File \u001b[1;32m~\\AppData\\Local\\Packages\\PythonSoftwareFoundation.Python.3.11_qbz5n2kfra8p0\\LocalCache\\local-packages\\Python311\\site-packages\\astropy\\io\\fits\\hdu\\hdulist.py:487\u001b[0m, in \u001b[0;36mHDUList.fromfile\u001b[1;34m(cls, fileobj, mode, memmap, save_backup, cache, lazy_load_hdus, ignore_missing_simple, **kwargs)\u001b[0m\n\u001b[0;32m    468\u001b[0m \u001b[38;5;129m@classmethod\u001b[39m\n\u001b[0;32m    469\u001b[0m \u001b[38;5;28;01mdef\u001b[39;00m \u001b[38;5;21mfromfile\u001b[39m(\n\u001b[0;32m    470\u001b[0m     \u001b[38;5;28mcls\u001b[39m,\n\u001b[1;32m   (...)\u001b[0m\n\u001b[0;32m    478\u001b[0m     \u001b[38;5;241m*\u001b[39m\u001b[38;5;241m*\u001b[39mkwargs,\n\u001b[0;32m    479\u001b[0m ):\n\u001b[0;32m    480\u001b[0m \u001b[38;5;250m    \u001b[39m\u001b[38;5;124;03m\"\"\"\u001b[39;00m\n\u001b[0;32m    481\u001b[0m \u001b[38;5;124;03m    Creates an `HDUList` instance from a file-like object.\u001b[39;00m\n\u001b[0;32m    482\u001b[0m \n\u001b[1;32m   (...)\u001b[0m\n\u001b[0;32m    485\u001b[0m \u001b[38;5;124;03m    documentation for details of the parameters accepted by this method).\u001b[39;00m\n\u001b[0;32m    486\u001b[0m \u001b[38;5;124;03m    \"\"\"\u001b[39;00m\n\u001b[1;32m--> 487\u001b[0m     \u001b[38;5;28;01mreturn\u001b[39;00m \u001b[38;5;28;43mcls\u001b[39;49m\u001b[38;5;241;43m.\u001b[39;49m\u001b[43m_readfrom\u001b[49m\u001b[43m(\u001b[49m\n\u001b[0;32m    488\u001b[0m \u001b[43m        \u001b[49m\u001b[43mfileobj\u001b[49m\u001b[38;5;241;43m=\u001b[39;49m\u001b[43mfileobj\u001b[49m\u001b[43m,\u001b[49m\n\u001b[0;32m    489\u001b[0m \u001b[43m        \u001b[49m\u001b[43mmode\u001b[49m\u001b[38;5;241;43m=\u001b[39;49m\u001b[43mmode\u001b[49m\u001b[43m,\u001b[49m\n\u001b[0;32m    490\u001b[0m \u001b[43m        \u001b[49m\u001b[43mmemmap\u001b[49m\u001b[38;5;241;43m=\u001b[39;49m\u001b[43mmemmap\u001b[49m\u001b[43m,\u001b[49m\n\u001b[0;32m    491\u001b[0m \u001b[43m        \u001b[49m\u001b[43msave_backup\u001b[49m\u001b[38;5;241;43m=\u001b[39;49m\u001b[43msave_backup\u001b[49m\u001b[43m,\u001b[49m\n\u001b[0;32m    492\u001b[0m \u001b[43m        \u001b[49m\u001b[43mcache\u001b[49m\u001b[38;5;241;43m=\u001b[39;49m\u001b[43mcache\u001b[49m\u001b[43m,\u001b[49m\n\u001b[0;32m    493\u001b[0m \u001b[43m        \u001b[49m\u001b[43mignore_missing_simple\u001b[49m\u001b[38;5;241;43m=\u001b[39;49m\u001b[43mignore_missing_simple\u001b[49m\u001b[43m,\u001b[49m\n\u001b[0;32m    494\u001b[0m \u001b[43m        \u001b[49m\u001b[43mlazy_load_hdus\u001b[49m\u001b[38;5;241;43m=\u001b[39;49m\u001b[43mlazy_load_hdus\u001b[49m\u001b[43m,\u001b[49m\n\u001b[0;32m    495\u001b[0m \u001b[43m        \u001b[49m\u001b[38;5;241;43m*\u001b[39;49m\u001b[38;5;241;43m*\u001b[39;49m\u001b[43mkwargs\u001b[49m\u001b[43m,\u001b[49m\n\u001b[0;32m    496\u001b[0m \u001b[43m    \u001b[49m\u001b[43m)\u001b[49m\n",
      "File \u001b[1;32m~\\AppData\\Local\\Packages\\PythonSoftwareFoundation.Python.3.11_qbz5n2kfra8p0\\LocalCache\\local-packages\\Python311\\site-packages\\astropy\\io\\fits\\hdu\\hdulist.py:1169\u001b[0m, in \u001b[0;36mHDUList._readfrom\u001b[1;34m(cls, fileobj, data, mode, memmap, cache, lazy_load_hdus, ignore_missing_simple, use_fsspec, fsspec_kwargs, decompress_in_memory, **kwargs)\u001b[0m\n\u001b[0;32m   1166\u001b[0m \u001b[38;5;28;01mif\u001b[39;00m fileobj \u001b[38;5;129;01mis\u001b[39;00m \u001b[38;5;129;01mnot\u001b[39;00m \u001b[38;5;28;01mNone\u001b[39;00m:\n\u001b[0;32m   1167\u001b[0m     \u001b[38;5;28;01mif\u001b[39;00m \u001b[38;5;129;01mnot\u001b[39;00m \u001b[38;5;28misinstance\u001b[39m(fileobj, _File):\n\u001b[0;32m   1168\u001b[0m         \u001b[38;5;66;03m# instantiate a FITS file object (ffo)\u001b[39;00m\n\u001b[1;32m-> 1169\u001b[0m         fileobj \u001b[38;5;241m=\u001b[39m \u001b[43m_File\u001b[49m\u001b[43m(\u001b[49m\n\u001b[0;32m   1170\u001b[0m \u001b[43m            \u001b[49m\u001b[43mfileobj\u001b[49m\u001b[43m,\u001b[49m\n\u001b[0;32m   1171\u001b[0m \u001b[43m            \u001b[49m\u001b[43mmode\u001b[49m\u001b[38;5;241;43m=\u001b[39;49m\u001b[43mmode\u001b[49m\u001b[43m,\u001b[49m\n\u001b[0;32m   1172\u001b[0m \u001b[43m            \u001b[49m\u001b[43mmemmap\u001b[49m\u001b[38;5;241;43m=\u001b[39;49m\u001b[43mmemmap\u001b[49m\u001b[43m,\u001b[49m\n\u001b[0;32m   1173\u001b[0m \u001b[43m            \u001b[49m\u001b[43mcache\u001b[49m\u001b[38;5;241;43m=\u001b[39;49m\u001b[43mcache\u001b[49m\u001b[43m,\u001b[49m\n\u001b[0;32m   1174\u001b[0m \u001b[43m            \u001b[49m\u001b[43muse_fsspec\u001b[49m\u001b[38;5;241;43m=\u001b[39;49m\u001b[43muse_fsspec\u001b[49m\u001b[43m,\u001b[49m\n\u001b[0;32m   1175\u001b[0m \u001b[43m            \u001b[49m\u001b[43mfsspec_kwargs\u001b[49m\u001b[38;5;241;43m=\u001b[39;49m\u001b[43mfsspec_kwargs\u001b[49m\u001b[43m,\u001b[49m\n\u001b[0;32m   1176\u001b[0m \u001b[43m            \u001b[49m\u001b[43mdecompress_in_memory\u001b[49m\u001b[38;5;241;43m=\u001b[39;49m\u001b[43mdecompress_in_memory\u001b[49m\u001b[43m,\u001b[49m\n\u001b[0;32m   1177\u001b[0m \u001b[43m        \u001b[49m\u001b[43m)\u001b[49m\n\u001b[0;32m   1178\u001b[0m     \u001b[38;5;66;03m# The Astropy mode is determined by the _File initializer if the\u001b[39;00m\n\u001b[0;32m   1179\u001b[0m     \u001b[38;5;66;03m# supplied mode was None\u001b[39;00m\n\u001b[0;32m   1180\u001b[0m     mode \u001b[38;5;241m=\u001b[39m fileobj\u001b[38;5;241m.\u001b[39mmode\n",
      "File \u001b[1;32m~\\AppData\\Local\\Packages\\PythonSoftwareFoundation.Python.3.11_qbz5n2kfra8p0\\LocalCache\\local-packages\\Python311\\site-packages\\astropy\\io\\fits\\file.py:218\u001b[0m, in \u001b[0;36m_File.__init__\u001b[1;34m(self, fileobj, mode, memmap, overwrite, cache, use_fsspec, fsspec_kwargs, decompress_in_memory)\u001b[0m\n\u001b[0;32m    216\u001b[0m     \u001b[38;5;28mself\u001b[39m\u001b[38;5;241m.\u001b[39m_open_fileobj(fileobj, mode, overwrite)\n\u001b[0;32m    217\u001b[0m \u001b[38;5;28;01melif\u001b[39;00m \u001b[38;5;28misinstance\u001b[39m(fileobj, (\u001b[38;5;28mstr\u001b[39m, \u001b[38;5;28mbytes\u001b[39m)):\n\u001b[1;32m--> 218\u001b[0m     \u001b[38;5;28;43mself\u001b[39;49m\u001b[38;5;241;43m.\u001b[39;49m\u001b[43m_open_filename\u001b[49m\u001b[43m(\u001b[49m\u001b[43mfileobj\u001b[49m\u001b[43m,\u001b[49m\u001b[43m \u001b[49m\u001b[43mmode\u001b[49m\u001b[43m,\u001b[49m\u001b[43m \u001b[49m\u001b[43moverwrite\u001b[49m\u001b[43m)\u001b[49m\n\u001b[0;32m    219\u001b[0m \u001b[38;5;28;01melse\u001b[39;00m:\n\u001b[0;32m    220\u001b[0m     \u001b[38;5;28mself\u001b[39m\u001b[38;5;241m.\u001b[39m_open_filelike(fileobj, mode, overwrite)\n",
      "File \u001b[1;32m~\\AppData\\Local\\Packages\\PythonSoftwareFoundation.Python.3.11_qbz5n2kfra8p0\\LocalCache\\local-packages\\Python311\\site-packages\\astropy\\io\\fits\\file.py:651\u001b[0m, in \u001b[0;36m_File._open_filename\u001b[1;34m(self, filename, mode, overwrite)\u001b[0m\n\u001b[0;32m    648\u001b[0m ext \u001b[38;5;241m=\u001b[39m os\u001b[38;5;241m.\u001b[39mpath\u001b[38;5;241m.\u001b[39msplitext(\u001b[38;5;28mself\u001b[39m\u001b[38;5;241m.\u001b[39mname)[\u001b[38;5;241m1\u001b[39m]\n\u001b[0;32m    650\u001b[0m \u001b[38;5;28;01mif\u001b[39;00m \u001b[38;5;129;01mnot\u001b[39;00m \u001b[38;5;28mself\u001b[39m\u001b[38;5;241m.\u001b[39m_try_read_compressed(\u001b[38;5;28mself\u001b[39m\u001b[38;5;241m.\u001b[39mname, magic, mode, ext\u001b[38;5;241m=\u001b[39mext):\n\u001b[1;32m--> 651\u001b[0m     \u001b[38;5;28mself\u001b[39m\u001b[38;5;241m.\u001b[39m_file \u001b[38;5;241m=\u001b[39m \u001b[38;5;28;43mopen\u001b[39;49m\u001b[43m(\u001b[49m\u001b[38;5;28;43mself\u001b[39;49m\u001b[38;5;241;43m.\u001b[39;49m\u001b[43mname\u001b[49m\u001b[43m,\u001b[49m\u001b[43m \u001b[49m\u001b[43mIO_FITS_MODES\u001b[49m\u001b[43m[\u001b[49m\u001b[43mmode\u001b[49m\u001b[43m]\u001b[49m\u001b[43m)\u001b[49m\n\u001b[0;32m    652\u001b[0m     \u001b[38;5;28mself\u001b[39m\u001b[38;5;241m.\u001b[39mclose_on_error \u001b[38;5;241m=\u001b[39m \u001b[38;5;28;01mTrue\u001b[39;00m\n\u001b[0;32m    654\u001b[0m \u001b[38;5;66;03m# Make certain we're back at the beginning of the file\u001b[39;00m\n\u001b[0;32m    655\u001b[0m \u001b[38;5;66;03m# BZ2File does not support seek when the file is open for writing, but\u001b[39;00m\n\u001b[0;32m    656\u001b[0m \u001b[38;5;66;03m# when opening a file for write, bz2.BZ2File always truncates anyway.\u001b[39;00m\n",
      "\u001b[1;31mFileNotFoundError\u001b[0m: [Errno 2] No such file or directory: 'blue_science.fits'"
     ]
    }
   ],
   "source": [
    "from PIL import Image\n",
    "\n",
    "# Load blue, green, and red channels from FITS files\n",
    "blue_data = fits.getdata('blue_science.fits')\n",
    "green_data = fits.getdata('visible_science.fits')\n",
    "red_data = fits.getdata('red_science.fits')\n",
    "\n",
    "# Normalize the data to [0, 255] if necessary\n",
    "blue_data = np.clip(blue_data, 0, 255).astype(np.uint8)\n",
    "green_data = np.clip(green_data, 0, 255).astype(np.uint8)\n",
    "red_data = np.clip(red_data, 0, 255).astype(np.uint8)\n",
    "\n",
    "# Stack them into an RGB array\n",
    "rgb_array = np.stack([red_data, green_data, blue_data], axis=-1)\n",
    "\n",
    "# Convert to an image using Pillow and save or display it\n",
    "rgb_image = Image.fromarray(rgb_array)\n",
    "rgb_image.save('combined_image.png')\n",
    "rgb_image.show()"
   ]
  },
  {
   "cell_type": "code",
   "execution_count": null,
   "id": "4d579253-f2ae-4fd0-9beb-3d6702e5c0d2",
   "metadata": {},
   "outputs": [],
   "source": [
    "from astropy.io import fits\n",
    "import numpy as np\n",
    "\n",
    "# Load the FITS files as NumPy arrays\n",
    "red_image = fits.getdata('ha_science.fits')\n",
    "green_image = fits.getdata('red_science.fits')\n",
    "blue_image = fits.getdata('visible_science.fits')\n",
    "\n",
    "# Optionally, normalize the images\n",
    "def normalize_image(data, lower_percentile=1, upper_percentile=99):\n",
    "    lower = np.percentile(data, lower_percentile)\n",
    "    upper = np.percentile(data, upper_percentile)\n",
    "    normalized_data = (data - lower) / (upper - lower) * 255\n",
    "    return np.clip(normalized_data, 0, 255).astype(np.uint8)\n",
    "\n",
    "red_image = normalize_image(red_image)\n",
    "green_image = normalize_image(green_image)\n",
    "blue_image = normalize_image(blue_image)"
   ]
  },
  {
   "cell_type": "code",
   "execution_count": null,
   "id": "99ea9b0c-b290-440f-88e4-38d6fce2de1e",
   "metadata": {},
   "outputs": [],
   "source": [
    "from skimage.registration import phase_cross_correlation\n",
    "from scipy.ndimage import shift\n",
    "\n",
    "# Function to align two images using cross-correlation\n",
    "def align_images_translation(image1, image2):\n",
    "    # Calculate the shift between the images\n",
    "    shift_yx, error, diffphase = phase_cross_correlation(image1, image2)\n",
    "    print(f\"Shift: {shift_yx}, Error: {error}\")\n",
    "\n",
    "    # Apply the shift to image2\n",
    "    aligned_image2 = shift(image2, shift_yx)\n",
    "\n",
    "    return aligned_image2\n",
    "\n",
    "# Align green and blue channels to the red channel\n",
    "aligned_green = align_images_translation(red_image, green_image)\n",
    "aligned_blue = align_images_translation(red_image, blue_image)"
   ]
  },
  {
   "cell_type": "code",
   "execution_count": null,
   "id": "54880daa-01f8-49a1-b82f-d500dd0856c4",
   "metadata": {},
   "outputs": [],
   "source": [
    "from PIL import Image\n",
    "\n",
    "# Stack the aligned channels into an RGB array\n",
    "rgb_array = np.stack([red_image, aligned_green, aligned_blue], axis=-1)\n",
    "\n",
    "# Convert to an image and display/save\n",
    "rgb_image = Image.fromarray(rgb_array.astype(np.uint8))\n",
    "rgb_image.show()  # Display the image\n",
    "rgb_image.save('aligned_rgb_image.png')  # Save the image"
   ]
  },
  {
   "cell_type": "markdown",
   "id": "6e92a17d-13f0-4665-922b-f3249b86b72e",
   "metadata": {},
   "source": [
    "--------------------------------------------------------"
   ]
  },
  {
   "cell_type": "markdown",
   "id": "686815e8-44f6-42ee-aeed-b5d374b21b9f",
   "metadata": {},
   "source": [
    "## Lab 2 Analysis"
   ]
  },
  {
   "cell_type": "code",
   "execution_count": 10,
   "id": "cf6dc1c8-aa72-484e-82f8-17d182b6b0a4",
   "metadata": {},
   "outputs": [],
   "source": [
    "#essential functions\n",
    "\n",
    "#Inputs a list of fits file paths, and outputs their data concatenated in a 3d ndarray.\n",
    "#The resulting array has dimensions (file_index,x,y).\n",
    "def fits_data_to_3d_array(file_list): \n",
    "    for i, file in enumerate(file_list):\n",
    "        with fits.open(file) as hdu:\n",
    "            if i==0:  #If first iteration, create array with correct shape of data\n",
    "                final_array = np.zeros((len(file_list), *hdu[0].data.shape))\n",
    "            final_array[i,:,:] = hdu[0].data\n",
    "    return final_array\n",
    "\n",
    "#Takes in a 3d array from the above function, and takes a median along the file_index axis.\n",
    "#Returns a 2d array representing the median image.\n",
    "def median_combine(frame_array_3d):\n",
    "    master_frame = np.median(frame_array_3d,axis=0) \n",
    "    return master_frame\n",
    "\n",
    "#Like the above function, but takes a mean.\n",
    "def mean_combine(frame_array_3d):\n",
    "    master_frame = np.mean(frame_array_3d,axis=0) #takes median along the 'file_index' axis\n",
    "    return master_frame\n",
    "    \n",
    "#Takes in a 2d array, saves as a fits file with no specifications on a header for viewing in ds9.\n",
    "def save_array_as_fits(array, new_file_name):\n",
    "    hdu = fits.PrimaryHDU(data = array)\n",
    "    hdul = fits.HDUList([hdu])\n",
    "    hdul.writeto(new_file_name)\n",
    "\n",
    "###the definitive, working file input function\n",
    "\n",
    "#Cuts out parts of an array along the y-axis. Used in spectroscopy to cut out the two irrelevant slits.\n",
    "def cut_images_array(image_array, y_pixel_min, y_pixel_max):\n",
    "    lower_index = (-1) + y_pixel_min\n",
    "    upper_index = (-1) + y_pixel_max\n",
    "    image_array_cut = image_array[lower_index:upper_index,:]\n",
    "    print(image_array_cut.shape)\n",
    "    return image_array_cut\n",
    "\n",
    "#Used to display part or all of the spectrum image; takes a 2d array as input.\n",
    "def display_2d_array(image_array, lower_percentile=1, upper_percentile=99):\n",
    "    minimum = np.percentile(image_array,lower_percentile)\n",
    "    maximum = np.percentile(image_array,upper_percentile)\n",
    "    plt.imshow(image_array, cmap='gray', origin = 'lower', vmin=minimum, vmax=maximum)\n",
    "    plt.colorbar(location='top')"
   ]
  },
  {
   "cell_type": "markdown",
   "id": "b118f668-2e83-4525-ae9d-4560e2950e67",
   "metadata": {},
   "source": [
    "## 4.1: Making and applying master flats and darks"
   ]
  },
  {
   "cell_type": "markdown",
   "id": "2f854d84-3686-45f3-8ff0-38a9787bf472",
   "metadata": {},
   "source": [
    "Make the master dark and flat frames"
   ]
  },
  {
   "cell_type": "markdown",
   "id": "871a374f-e80e-4e77-a2b3-d480403c0533",
   "metadata": {},
   "source": [
    "## Notes on the files:\n",
    "(of course this is to be tidied up and unnecessary parts omitted when handing the notebook in for real)\n",
    "\n",
    "In the pretty picture folder (a folder called \"pretty picture\" in the same directory as the notebook, containing all the darks, flats, and orion lights fits files): flats of .5s and sciences of 2s for each of the filters we used. 18s darks which are filter agnostic. \n",
    "\n",
    "In the Lab 2 folder (a folder called \"Lab 2\" in the same directory as the notebook, containing all the lab 2 lights fits files): Like 4 18s red \"lights\". Hundreds of 18s blue filter lights. Must use \"pretty picture's\" 18s darks and blue flats.\n",
    "\n",
    "\n",
    "Additional notes I took during the observation. Note that python and the file structure disagree on file number titles, so these might be one or so off from the real file numbers:\n",
    "    \n",
    "    The first science file is at 10:59 PM.\n",
    "    \n",
    "    Strange background brightness change in frame 9?\n",
    "    \n",
    "    Dome was rotated 180 degrees on frame ~26, at 11:08 PM. \n",
    "    \n",
    "    The meridian flip started 11:30, frame ~83. We had found the stars again by 11:46(maybe some frames before?), frame ~120. \n",
    "    \n",
    "    Telescope was moved between 12:14 and 12:17, frames ~197-201.\n",
    "    \n",
    "    Moved again 12:33, frame ~245.\n",
    "    \n",
    "    The last frame was at 12:53.\n",
    "    \n",
    "    One frame of the hundreds may not have been downloaded from the lab computer, so one of the numbers in the middle might be skipped. This might matter because the 3d array's indices no longer match the original files uniformly. A way around this is to standardize referring to the files as they appear as indices of sciences_3d_array."
   ]
  },
  {
   "cell_type": "code",
   "execution_count": 11,
   "id": "cd4e2bbb-d494-41e0-b37a-3f9024adde51",
   "metadata": {},
   "outputs": [],
   "source": [
    "darks_3d_array = fits_data_to_3d_array(glob_files(\"pretty picture\",\"orion_dark_18s\"))\n",
    "flats_3d_array = fits_data_to_3d_array(glob_files(\"pretty picture\",\"orion_blue_flat\"))\n",
    "\n",
    "#for now assume light level is constant. We did dome flats after all.\n",
    "\n",
    "masterdark = median_combine(darks_3d_array)\n",
    "masterflat = median_combine(flats_3d_array)\n",
    "masterflat_normalized = (masterflat - masterdark) / np.median(masterflat - masterdark)\n",
    "#is this right?"
   ]
  },
  {
   "cell_type": "markdown",
   "id": "0d62e40a-c762-4302-af54-eb8b3494959e",
   "metadata": {},
   "source": [
    "Calibrate the science images and save them. (For your computer's sake, make sure save is commented out if you don't want to save)"
   ]
  },
  {
   "cell_type": "code",
   "execution_count": 12,
   "id": "1f258615-51aa-449e-8e7d-ba57efd7f362",
   "metadata": {},
   "outputs": [],
   "source": [
    "#...\n",
    "#now, assume we have  however many hundred (selected or just all of them? Shall we select after?) science 2d arrays, contained in a 3d array. sciences_3d_array\n",
    "\n",
    "sciences_3d_array = fits_data_to_3d_array(glob_files(\"Lab 2\",\"HATP6_blue_lights_18s\"))\n",
    "\n",
    "sciences_3d_array_calibrated = sciences_3d_array.copy()\n",
    "num_science_files = len(sciences_3d_array_calibrated[:,0,0])\n",
    "for i in range(num_science_files):\n",
    "    sciences_3d_array_calibrated[i,:,:] = (sciences_3d_array_calibrated[i,:,:] - masterdark) / masterflat_normalized\n",
    "    save_array_to_fits_file(sciences_3d_array_calibrated[i,:,:], f\"calibrated_lab2/science_calib_{i}.fits\")"
   ]
  },
  {
   "cell_type": "markdown",
   "id": "97d87590-d3ff-4df4-b814-ce8dbe8a2b44",
   "metadata": {},
   "source": [
    "Check images in ds9 to see if they make sense."
   ]
  },
  {
   "cell_type": "markdown",
   "id": "1dc6bd7f-080f-4437-a548-518a8abaf7d2",
   "metadata": {},
   "source": [
    "Now comes the time to handle the astrometry of the calibrated science images, and/or curate the streaked/far-off images away."
   ]
  },
  {
   "cell_type": "code",
   "execution_count": null,
   "id": "1c01c064-de73-4950-9e9d-54423fb92e26",
   "metadata": {},
   "outputs": [],
   "source": [
    "#check the header of a file:\n",
    "with fits.open(\"\") as hdu:\n",
    "            print(hdu[0].header)"
   ]
  }
 ],
 "metadata": {
  "kernelspec": {
   "display_name": "Python 3 (ipykernel)",
   "language": "python",
   "name": "python3"
  },
  "language_info": {
   "codemirror_mode": {
    "name": "ipython",
    "version": 3
   },
   "file_extension": ".py",
   "mimetype": "text/x-python",
   "name": "python",
   "nbconvert_exporter": "python",
   "pygments_lexer": "ipython3",
   "version": "3.11.9"
  }
 },
 "nbformat": 4,
 "nbformat_minor": 5
}
